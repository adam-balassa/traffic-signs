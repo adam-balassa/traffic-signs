{
 "cells": [
  {
   "cell_type": "markdown",
   "metadata": {},
   "source": [
    "# Accuracy model"
   ]
  },
  {
   "cell_type": "markdown",
   "metadata": {},
   "source": [
    "## Imports"
   ]
  },
  {
   "cell_type": "code",
   "execution_count": 1,
   "metadata": {},
   "outputs": [],
   "source": [
    "import matplotlib.pyplot as plt\n",
    "import numpy as np\n",
    "import pickle\n",
    "from sklearn import preprocessing\n",
    "import random"
   ]
  },
  {
   "cell_type": "markdown",
   "metadata": {},
   "source": [
    "Keras"
   ]
  },
  {
   "cell_type": "code",
   "execution_count": 90,
   "metadata": {},
   "outputs": [],
   "source": [
    "import tensorflow as tf\n",
    "from keras.utils.np_utils import to_categorical\n",
    "from keras.models import Sequential\n",
    "from keras.layers import Dense, Dropout\n",
    "import keras.backend as kb"
   ]
  },
  {
   "cell_type": "markdown",
   "metadata": {},
   "source": [
    "## Model saver"
   ]
  },
  {
   "cell_type": "code",
   "execution_count": 3,
   "metadata": {},
   "outputs": [],
   "source": [
    "class ModelSaver:\n",
    "    def __init__(self, name = 'model', model = None):\n",
    "        self.model = model\n",
    "        self.fileName = name + '.pickle'\n",
    "    def save(self, model = None):\n",
    "        if (model == None):\n",
    "            model = self.model\n",
    "        pickle.dump(model, open(self.fileName, 'wb'))\n",
    "    def load(self):\n",
    "        model = pickle.load(open(self.fileName, 'rb'))\n",
    "        return model"
   ]
  },
  {
   "cell_type": "markdown",
   "metadata": {},
   "source": [
    "## Loading raw data"
   ]
  },
  {
   "cell_type": "code",
   "execution_count": 4,
   "metadata": {},
   "outputs": [],
   "source": [
    "basicModel = ModelSaver('models/model1').load()"
   ]
  },
  {
   "cell_type": "code",
   "execution_count": 5,
   "metadata": {},
   "outputs": [],
   "source": [
    "path = '../training-data-preprocessed/'\n",
    "data = ModelSaver(path + 'data3').load()"
   ]
  },
  {
   "cell_type": "code",
   "execution_count": 6,
   "metadata": {},
   "outputs": [],
   "source": [
    "xTrainModel = data['x_train'].transpose(0, 2, 3, 1)\n",
    "yTrainModel = data['y_train']\n",
    "xTestModel = data['x_test'].transpose(0, 2, 3, 1)\n",
    "yTestModel = data['y_test']"
   ]
  },
  {
   "cell_type": "code",
   "execution_count": null,
   "metadata": {},
   "outputs": [],
   "source": []
  },
  {
   "cell_type": "markdown",
   "metadata": {},
   "source": [
    "## Preparing data"
   ]
  },
  {
   "cell_type": "code",
   "execution_count": 164,
   "metadata": {},
   "outputs": [],
   "source": [
    "xTrain = basicModel.predict(xTrainModel)\n",
    "xTest = basicModel.predict(xTestModel[:1500])"
   ]
  },
  {
   "cell_type": "code",
   "execution_count": 165,
   "metadata": {},
   "outputs": [],
   "source": [
    "yTrain = np.array([int(np.argmax(xTrain[i]) == yTrainModel[i]) for i in range(0, len(xTrain))])\n",
    "yTest = np.array([int(np.argmax(xTest[i]) == yTestModel[i]) for i in range(0, len(xTest))])"
   ]
  },
  {
   "cell_type": "code",
   "execution_count": 166,
   "metadata": {},
   "outputs": [],
   "source": [
    "def equalize(x, y):\n",
    "    trueResults = y[y == 1]\n",
    "    falseResults = x[np.arange(len(y))[y == 0]]\n",
    "\n",
    "    n = int(len(trueResults) / len(falseResults))\n",
    "    xTemp = []\n",
    "    for i in range (1, n):\n",
    "        xTemp.append(falseResults)\n",
    "\n",
    "    shape = np.array(xTemp).shape\n",
    "    xTemp = np.array(xTemp).reshape((shape[0] * shape[1], shape[2]))\n",
    "    x = np.concatenate((x, xTemp))\n",
    "    y = np.concatenate((y, np.full(len(xTemp), 0)))\n",
    "    return x, y"
   ]
  },
  {
   "cell_type": "code",
   "execution_count": 167,
   "metadata": {},
   "outputs": [],
   "source": [
    "xTrain, yTrain = equalize(xTrain, yTrain)"
   ]
  },
  {
   "cell_type": "code",
   "execution_count": 168,
   "metadata": {},
   "outputs": [
    {
     "name": "stdout",
     "output_type": "stream",
     "text": [
      "True false ratio:  0.5011359009612377\n"
     ]
    }
   ],
   "source": [
    "print('True false ratio: ', len(yTrain[yTrain == 1]) / len(yTrain))"
   ]
  },
  {
   "cell_type": "code",
   "execution_count": 170,
   "metadata": {},
   "outputs": [],
   "source": [
    "np.random.seed(0)\n",
    "np.random.shuffle(xTrain)\n",
    "np.random.seed(0)\n",
    "np.random.shuffle(yTrain)"
   ]
  },
  {
   "cell_type": "code",
   "execution_count": 171,
   "metadata": {},
   "outputs": [
    {
     "name": "stderr",
     "output_type": "stream",
     "text": [
      "/home/adam/anaconda3/lib/python3.7/site-packages/sklearn/preprocessing/data.py:189: UserWarning: Numerical issues were encountered when scaling the data and might not be solved. The standard deviation of the data is probably very close to 0. \n",
      "  warnings.warn(\"Numerical issues were encountered \"\n",
      "/home/adam/anaconda3/lib/python3.7/site-packages/sklearn/preprocessing/data.py:189: UserWarning: Numerical issues were encountered when scaling the data and might not be solved. The standard deviation of the data is probably very close to 0. \n",
      "  warnings.warn(\"Numerical issues were encountered \"\n"
     ]
    }
   ],
   "source": [
    "xTrain = preprocessing.scale(xTrain, axis=1)\n",
    "xTest = preprocessing.scale(xTest, axis=1)\n",
    "\n",
    "xTrain = preprocessing.minmax_scale(xTrain, axis=0) * 2 - 1\n",
    "xTest = preprocessing.minmax_scale(xTest, axis=0) * 2 - 1"
   ]
  },
  {
   "cell_type": "code",
   "execution_count": 175,
   "metadata": {},
   "outputs": [],
   "source": [
    "xTrain = np.array(np.sort(xTrain, axis=1))[:, :20]\n",
    "xTest = np.array(np.sort(xTest, axis=1))[:, :20]"
   ]
  },
  {
   "cell_type": "code",
   "execution_count": 176,
   "metadata": {},
   "outputs": [
    {
     "data": {
      "text/plain": [
       "(169469, 20)"
      ]
     },
     "execution_count": 176,
     "metadata": {},
     "output_type": "execute_result"
    }
   ],
   "source": [
    "xTrain.shape"
   ]
  },
  {
   "cell_type": "markdown",
   "metadata": {},
   "source": [
    "## Setting up a model"
   ]
  },
  {
   "cell_type": "code",
   "execution_count": 177,
   "metadata": {},
   "outputs": [],
   "source": [
    "model = Sequential()\n",
    "model.add(Dense(300, input_dim = 20, kernel_initializer='normal', activation='relu'))\n",
    "model.add(Dense(1, kernel_initializer='normal', activation='sigmoid'))"
   ]
  },
  {
   "cell_type": "code",
   "execution_count": 113,
   "metadata": {},
   "outputs": [],
   "source": [
    "@tf.function\n",
    "def loss(predicted, actual):\n",
    "    sq = tf.square(predicted - actual)\n",
    "    return tf.cond(tf.less(tf.constant(0.25), sq), lambda: tf.constant(1), lambda: sq)\n",
    "\n",
    "@tf.function\n",
    "def loss_function(predicted, actual):\n",
    "    return kb.mean(kb.sum(loss(predicted, actual)))"
   ]
  },
  {
   "cell_type": "code",
   "execution_count": 178,
   "metadata": {},
   "outputs": [],
   "source": [
    "model.compile(optimizer='adam', loss='mean_squared_error', metrics=['accuracy'])"
   ]
  },
  {
   "cell_type": "code",
   "execution_count": 179,
   "metadata": {},
   "outputs": [
    {
     "name": "stdout",
     "output_type": "stream",
     "text": [
      "Train on 169469 samples, validate on 1500 samples\n",
      "Epoch 1/10\n",
      " - 36s - loss: 0.2424 - accuracy: 0.5837 - val_loss: 0.4026 - val_accuracy: 0.1260\n",
      "Epoch 2/10\n",
      " - 41s - loss: 0.1503 - accuracy: 0.8464 - val_loss: 0.8514 - val_accuracy: 0.1260\n",
      "Epoch 3/10\n",
      " - 39s - loss: 0.0908 - accuracy: 0.8986 - val_loss: 0.8732 - val_accuracy: 0.1260\n",
      "Epoch 4/10\n"
     ]
    },
    {
     "ename": "KeyboardInterrupt",
     "evalue": "",
     "output_type": "error",
     "traceback": [
      "\u001b[0;31m---------------------------------------------------------------------------\u001b[0m",
      "\u001b[0;31mKeyboardInterrupt\u001b[0m                         Traceback (most recent call last)",
      "\u001b[0;32m<ipython-input-179-a76158bee317>\u001b[0m in \u001b[0;36m<module>\u001b[0;34m\u001b[0m\n\u001b[1;32m      2\u001b[0m                     \u001b[0mepochs\u001b[0m\u001b[0;34m=\u001b[0m\u001b[0;36m10\u001b[0m\u001b[0;34m,\u001b[0m  \u001b[0mbatch_size\u001b[0m\u001b[0;34m=\u001b[0m\u001b[0;36m10\u001b[0m\u001b[0;34m,\u001b[0m\u001b[0;34m\u001b[0m\u001b[0;34m\u001b[0m\u001b[0m\n\u001b[1;32m      3\u001b[0m                     \u001b[0mvalidation_data\u001b[0m\u001b[0;34m=\u001b[0m\u001b[0;34m(\u001b[0m\u001b[0mxTest\u001b[0m\u001b[0;34m,\u001b[0m \u001b[0myTest\u001b[0m\u001b[0;34m)\u001b[0m\u001b[0;34m,\u001b[0m\u001b[0;34m\u001b[0m\u001b[0;34m\u001b[0m\u001b[0m\n\u001b[0;32m----> 4\u001b[0;31m                     verbose=2)\n\u001b[0m",
      "\u001b[0;32m~/anaconda3/lib/python3.7/site-packages/keras/engine/training.py\u001b[0m in \u001b[0;36mfit\u001b[0;34m(self, x, y, batch_size, epochs, verbose, callbacks, validation_split, validation_data, shuffle, class_weight, sample_weight, initial_epoch, steps_per_epoch, validation_steps, validation_freq, max_queue_size, workers, use_multiprocessing, **kwargs)\u001b[0m\n\u001b[1;32m   1237\u001b[0m                                         \u001b[0msteps_per_epoch\u001b[0m\u001b[0;34m=\u001b[0m\u001b[0msteps_per_epoch\u001b[0m\u001b[0;34m,\u001b[0m\u001b[0;34m\u001b[0m\u001b[0;34m\u001b[0m\u001b[0m\n\u001b[1;32m   1238\u001b[0m                                         \u001b[0mvalidation_steps\u001b[0m\u001b[0;34m=\u001b[0m\u001b[0mvalidation_steps\u001b[0m\u001b[0;34m,\u001b[0m\u001b[0;34m\u001b[0m\u001b[0;34m\u001b[0m\u001b[0m\n\u001b[0;32m-> 1239\u001b[0;31m                                         validation_freq=validation_freq)\n\u001b[0m\u001b[1;32m   1240\u001b[0m \u001b[0;34m\u001b[0m\u001b[0m\n\u001b[1;32m   1241\u001b[0m     def evaluate(self,\n",
      "\u001b[0;32m~/anaconda3/lib/python3.7/site-packages/keras/engine/training_arrays.py\u001b[0m in \u001b[0;36mfit_loop\u001b[0;34m(model, fit_function, fit_inputs, out_labels, batch_size, epochs, verbose, callbacks, val_function, val_inputs, shuffle, initial_epoch, steps_per_epoch, validation_steps, validation_freq)\u001b[0m\n\u001b[1;32m    194\u001b[0m                     \u001b[0mins_batch\u001b[0m\u001b[0;34m[\u001b[0m\u001b[0mi\u001b[0m\u001b[0;34m]\u001b[0m \u001b[0;34m=\u001b[0m \u001b[0mins_batch\u001b[0m\u001b[0;34m[\u001b[0m\u001b[0mi\u001b[0m\u001b[0;34m]\u001b[0m\u001b[0;34m.\u001b[0m\u001b[0mtoarray\u001b[0m\u001b[0;34m(\u001b[0m\u001b[0;34m)\u001b[0m\u001b[0;34m\u001b[0m\u001b[0;34m\u001b[0m\u001b[0m\n\u001b[1;32m    195\u001b[0m \u001b[0;34m\u001b[0m\u001b[0m\n\u001b[0;32m--> 196\u001b[0;31m                 \u001b[0mouts\u001b[0m \u001b[0;34m=\u001b[0m \u001b[0mfit_function\u001b[0m\u001b[0;34m(\u001b[0m\u001b[0mins_batch\u001b[0m\u001b[0;34m)\u001b[0m\u001b[0;34m\u001b[0m\u001b[0;34m\u001b[0m\u001b[0m\n\u001b[0m\u001b[1;32m    197\u001b[0m                 \u001b[0mouts\u001b[0m \u001b[0;34m=\u001b[0m \u001b[0mto_list\u001b[0m\u001b[0;34m(\u001b[0m\u001b[0mouts\u001b[0m\u001b[0;34m)\u001b[0m\u001b[0;34m\u001b[0m\u001b[0;34m\u001b[0m\u001b[0m\n\u001b[1;32m    198\u001b[0m                 \u001b[0;32mfor\u001b[0m \u001b[0ml\u001b[0m\u001b[0;34m,\u001b[0m \u001b[0mo\u001b[0m \u001b[0;32min\u001b[0m \u001b[0mzip\u001b[0m\u001b[0;34m(\u001b[0m\u001b[0mout_labels\u001b[0m\u001b[0;34m,\u001b[0m \u001b[0mouts\u001b[0m\u001b[0;34m)\u001b[0m\u001b[0;34m:\u001b[0m\u001b[0;34m\u001b[0m\u001b[0;34m\u001b[0m\u001b[0m\n",
      "\u001b[0;32m~/anaconda3/lib/python3.7/site-packages/tensorflow_core/python/keras/backend.py\u001b[0m in \u001b[0;36m__call__\u001b[0;34m(self, inputs)\u001b[0m\n\u001b[1;32m   3738\u001b[0m         \u001b[0mvalue\u001b[0m \u001b[0;34m=\u001b[0m \u001b[0mmath_ops\u001b[0m\u001b[0;34m.\u001b[0m\u001b[0mcast\u001b[0m\u001b[0;34m(\u001b[0m\u001b[0mvalue\u001b[0m\u001b[0;34m,\u001b[0m \u001b[0mtensor\u001b[0m\u001b[0;34m.\u001b[0m\u001b[0mdtype\u001b[0m\u001b[0;34m)\u001b[0m\u001b[0;34m\u001b[0m\u001b[0;34m\u001b[0m\u001b[0m\n\u001b[1;32m   3739\u001b[0m       \u001b[0mconverted_inputs\u001b[0m\u001b[0;34m.\u001b[0m\u001b[0mappend\u001b[0m\u001b[0;34m(\u001b[0m\u001b[0mvalue\u001b[0m\u001b[0;34m)\u001b[0m\u001b[0;34m\u001b[0m\u001b[0;34m\u001b[0m\u001b[0m\n\u001b[0;32m-> 3740\u001b[0;31m     \u001b[0moutputs\u001b[0m \u001b[0;34m=\u001b[0m \u001b[0mself\u001b[0m\u001b[0;34m.\u001b[0m\u001b[0m_graph_fn\u001b[0m\u001b[0;34m(\u001b[0m\u001b[0;34m*\u001b[0m\u001b[0mconverted_inputs\u001b[0m\u001b[0;34m)\u001b[0m\u001b[0;34m\u001b[0m\u001b[0;34m\u001b[0m\u001b[0m\n\u001b[0m\u001b[1;32m   3741\u001b[0m \u001b[0;34m\u001b[0m\u001b[0m\n\u001b[1;32m   3742\u001b[0m     \u001b[0;31m# EagerTensor.numpy() will often make a copy to ensure memory safety.\u001b[0m\u001b[0;34m\u001b[0m\u001b[0;34m\u001b[0m\u001b[0;34m\u001b[0m\u001b[0m\n",
      "\u001b[0;32m~/anaconda3/lib/python3.7/site-packages/tensorflow_core/python/eager/function.py\u001b[0m in \u001b[0;36m__call__\u001b[0;34m(self, *args, **kwargs)\u001b[0m\n\u001b[1;32m   1079\u001b[0m       \u001b[0mTypeError\u001b[0m\u001b[0;34m:\u001b[0m \u001b[0mFor\u001b[0m \u001b[0minvalid\u001b[0m \u001b[0mpositional\u001b[0m\u001b[0;34m/\u001b[0m\u001b[0mkeyword\u001b[0m \u001b[0margument\u001b[0m \u001b[0mcombinations\u001b[0m\u001b[0;34m.\u001b[0m\u001b[0;34m\u001b[0m\u001b[0;34m\u001b[0m\u001b[0m\n\u001b[1;32m   1080\u001b[0m     \"\"\"\n\u001b[0;32m-> 1081\u001b[0;31m     \u001b[0;32mreturn\u001b[0m \u001b[0mself\u001b[0m\u001b[0;34m.\u001b[0m\u001b[0m_call_impl\u001b[0m\u001b[0;34m(\u001b[0m\u001b[0margs\u001b[0m\u001b[0;34m,\u001b[0m \u001b[0mkwargs\u001b[0m\u001b[0;34m)\u001b[0m\u001b[0;34m\u001b[0m\u001b[0;34m\u001b[0m\u001b[0m\n\u001b[0m\u001b[1;32m   1082\u001b[0m \u001b[0;34m\u001b[0m\u001b[0m\n\u001b[1;32m   1083\u001b[0m   \u001b[0;32mdef\u001b[0m \u001b[0m_call_impl\u001b[0m\u001b[0;34m(\u001b[0m\u001b[0mself\u001b[0m\u001b[0;34m,\u001b[0m \u001b[0margs\u001b[0m\u001b[0;34m,\u001b[0m \u001b[0mkwargs\u001b[0m\u001b[0;34m,\u001b[0m \u001b[0mcancellation_manager\u001b[0m\u001b[0;34m=\u001b[0m\u001b[0;32mNone\u001b[0m\u001b[0;34m)\u001b[0m\u001b[0;34m:\u001b[0m\u001b[0;34m\u001b[0m\u001b[0;34m\u001b[0m\u001b[0m\n",
      "\u001b[0;32m~/anaconda3/lib/python3.7/site-packages/tensorflow_core/python/eager/function.py\u001b[0m in \u001b[0;36m_call_impl\u001b[0;34m(self, args, kwargs, cancellation_manager)\u001b[0m\n\u001b[1;32m   1119\u001b[0m       raise TypeError(\"Keyword arguments {} unknown. Expected {}.\".format(\n\u001b[1;32m   1120\u001b[0m           list(kwargs.keys()), list(self._arg_keywords)))\n\u001b[0;32m-> 1121\u001b[0;31m     \u001b[0;32mreturn\u001b[0m \u001b[0mself\u001b[0m\u001b[0;34m.\u001b[0m\u001b[0m_call_flat\u001b[0m\u001b[0;34m(\u001b[0m\u001b[0margs\u001b[0m\u001b[0;34m,\u001b[0m \u001b[0mself\u001b[0m\u001b[0;34m.\u001b[0m\u001b[0mcaptured_inputs\u001b[0m\u001b[0;34m,\u001b[0m \u001b[0mcancellation_manager\u001b[0m\u001b[0;34m)\u001b[0m\u001b[0;34m\u001b[0m\u001b[0;34m\u001b[0m\u001b[0m\n\u001b[0m\u001b[1;32m   1122\u001b[0m \u001b[0;34m\u001b[0m\u001b[0m\n\u001b[1;32m   1123\u001b[0m   \u001b[0;32mdef\u001b[0m \u001b[0m_filtered_call\u001b[0m\u001b[0;34m(\u001b[0m\u001b[0mself\u001b[0m\u001b[0;34m,\u001b[0m \u001b[0margs\u001b[0m\u001b[0;34m,\u001b[0m \u001b[0mkwargs\u001b[0m\u001b[0;34m)\u001b[0m\u001b[0;34m:\u001b[0m\u001b[0;34m\u001b[0m\u001b[0;34m\u001b[0m\u001b[0m\n",
      "\u001b[0;32m~/anaconda3/lib/python3.7/site-packages/tensorflow_core/python/eager/function.py\u001b[0m in \u001b[0;36m_call_flat\u001b[0;34m(self, args, captured_inputs, cancellation_manager)\u001b[0m\n\u001b[1;32m   1222\u001b[0m     \u001b[0;32mif\u001b[0m \u001b[0mexecuting_eagerly\u001b[0m\u001b[0;34m:\u001b[0m\u001b[0;34m\u001b[0m\u001b[0;34m\u001b[0m\u001b[0m\n\u001b[1;32m   1223\u001b[0m       flat_outputs = forward_function.call(\n\u001b[0;32m-> 1224\u001b[0;31m           ctx, args, cancellation_manager=cancellation_manager)\n\u001b[0m\u001b[1;32m   1225\u001b[0m     \u001b[0;32melse\u001b[0m\u001b[0;34m:\u001b[0m\u001b[0;34m\u001b[0m\u001b[0;34m\u001b[0m\u001b[0m\n\u001b[1;32m   1226\u001b[0m       \u001b[0mgradient_name\u001b[0m \u001b[0;34m=\u001b[0m \u001b[0mself\u001b[0m\u001b[0;34m.\u001b[0m\u001b[0m_delayed_rewrite_functions\u001b[0m\u001b[0;34m.\u001b[0m\u001b[0mregister\u001b[0m\u001b[0;34m(\u001b[0m\u001b[0;34m)\u001b[0m\u001b[0;34m\u001b[0m\u001b[0;34m\u001b[0m\u001b[0m\n",
      "\u001b[0;32m~/anaconda3/lib/python3.7/site-packages/tensorflow_core/python/eager/function.py\u001b[0m in \u001b[0;36mcall\u001b[0;34m(self, ctx, args, cancellation_manager)\u001b[0m\n\u001b[1;32m    487\u001b[0m       \u001b[0mValueError\u001b[0m\u001b[0;34m:\u001b[0m \u001b[0;32mif\u001b[0m \u001b[0mthe\u001b[0m \u001b[0mnumber\u001b[0m \u001b[0mof\u001b[0m \u001b[0marguments\u001b[0m \u001b[0;32mis\u001b[0m \u001b[0mincorrect\u001b[0m\u001b[0;34m.\u001b[0m\u001b[0;34m\u001b[0m\u001b[0;34m\u001b[0m\u001b[0m\n\u001b[1;32m    488\u001b[0m     \"\"\"\n\u001b[0;32m--> 489\u001b[0;31m     \u001b[0;32mif\u001b[0m \u001b[0mlen\u001b[0m\u001b[0;34m(\u001b[0m\u001b[0margs\u001b[0m\u001b[0;34m)\u001b[0m \u001b[0;34m!=\u001b[0m \u001b[0mlen\u001b[0m\u001b[0;34m(\u001b[0m\u001b[0mself\u001b[0m\u001b[0;34m.\u001b[0m\u001b[0msignature\u001b[0m\u001b[0;34m.\u001b[0m\u001b[0minput_arg\u001b[0m\u001b[0;34m)\u001b[0m\u001b[0;34m:\u001b[0m\u001b[0;34m\u001b[0m\u001b[0;34m\u001b[0m\u001b[0m\n\u001b[0m\u001b[1;32m    490\u001b[0m       raise ValueError(\n\u001b[1;32m    491\u001b[0m           \u001b[0;34m\"Arguments and signature arguments do not match. \"\u001b[0m\u001b[0;34m\u001b[0m\u001b[0;34m\u001b[0m\u001b[0m\n",
      "\u001b[0;31mKeyboardInterrupt\u001b[0m: "
     ]
    }
   ],
   "source": [
    "results = model.fit(xTrain, yTrain, \n",
    "                    epochs=10,  batch_size=10,\n",
    "                    validation_data=(xTest, yTest),\n",
    "                    verbose=2)"
   ]
  },
  {
   "cell_type": "markdown",
   "metadata": {},
   "source": [
    "## Test and evaluation"
   ]
  },
  {
   "cell_type": "code",
   "execution_count": 77,
   "metadata": {},
   "outputs": [
    {
     "name": "stdout",
     "output_type": "stream",
     "text": [
      "1500/1500 [==============================] - 0s 120us/step\n",
      "Test accuracy:  0.8893333077430725\n"
     ]
    }
   ],
   "source": [
    "score = model.evaluate(xTest, yTest, verbose=1)\n",
    "print('Test accuracy: ', score[1])"
   ]
  },
  {
   "cell_type": "code",
   "execution_count": 78,
   "metadata": {},
   "outputs": [
    {
     "data": {
      "image/png": "[encoded data removed]",
      "text/plain": [
       "<Figure size 432x288 with 1 Axes>"
      ]
     },
     "metadata": {
      "needs_background": "light"
     },
     "output_type": "display_data"
    },
    {
     "data": {
      "image/png": "[encoded data removed]",
      "text/plain": [
       "<Figure size 432x288 with 1 Axes>"
      ]
     },
     "metadata": {
      "needs_background": "light"
     },
     "output_type": "display_data"
    }
   ],
   "source": [
    "plt.plot(results.history['accuracy'])\n",
    "plt.xlabel('Epoch', fontsize=15)\n",
    "plt.ylabel('Training accuracy', fontsize=15)\n",
    "plt.show()\n",
    "plt.plot(results.history['val_accuracy'])\n",
    "plt.xlabel('Epoch', fontsize=15)\n",
    "plt.ylabel('Validation accuracy', fontsize=15)\n",
    "plt.show()"
   ]
  },
  {
   "cell_type": "code",
   "execution_count": 79,
   "metadata": {},
   "outputs": [],
   "source": [
    "def showPrediction(n):\n",
    "    prediction = model.predict(np.array([xTest[n]]))\n",
    "    print('Prediction:', (prediction[0][0] * 100), '%')\n",
    "    print('Actual:', yTest[n])"
   ]
  },
  {
   "cell_type": "code",
   "execution_count": 80,
   "metadata": {
    "scrolled": false
   },
   "outputs": [
    {
     "name": "stdout",
     "output_type": "stream",
     "text": [
      "Prediction: 100.0 %\n",
      "Actual: 0\n",
      "Prediction: 92.1393632888794 %\n",
      "Actual: 0\n",
      "Prediction: 100.0 %\n",
      "Actual: 0\n",
      "Prediction: 7.718332856893539 %\n",
      "Actual: 1\n",
      "Prediction: 100.0 %\n",
      "Actual: 0\n",
      "Prediction: 100.0 %\n",
      "Actual: 0\n",
      "Prediction: 99.99996423721313 %\n",
      "Actual: 0\n",
      "Prediction: 100.0 %\n",
      "Actual: 0\n",
      "Prediction: 26.442310214042664 %\n",
      "Actual: 1\n",
      "Prediction: 29.596370458602905 %\n",
      "Actual: 1\n",
      "Prediction: 100.0 %\n",
      "Actual: 0\n",
      "Prediction: 100.0 %\n",
      "Actual: 0\n",
      "Prediction: 100.0 %\n",
      "Actual: 0\n",
      "Prediction: 79.26551699638367 %\n",
      "Actual: 0\n",
      "Prediction: 99.9994158744812 %\n",
      "Actual: 0\n",
      "Prediction: 99.95143413543701 %\n",
      "Actual: 0\n",
      "Prediction: 100.0 %\n",
      "Actual: 0\n",
      "Prediction: 99.86853003501892 %\n",
      "Actual: 0\n",
      "Prediction: 99.99971389770508 %\n",
      "Actual: 0\n",
      "Prediction: 15.29499888420105 %\n",
      "Actual: 1\n",
      "Prediction: 100.0 %\n",
      "Actual: 0\n",
      "Prediction: 100.0 %\n",
      "Actual: 0\n",
      "Prediction: 100.0 %\n",
      "Actual: 0\n",
      "Prediction: 100.0 %\n",
      "Actual: 0\n",
      "Prediction: 100.0 %\n",
      "Actual: 0\n",
      "Prediction: 100.0 %\n",
      "Actual: 0\n",
      "Prediction: 100.0 %\n",
      "Actual: 0\n",
      "Prediction: 99.33953881263733 %\n",
      "Actual: 0\n",
      "Prediction: 99.99938011169434 %\n",
      "Actual: 0\n",
      "Prediction: 100.0 %\n",
      "Actual: 0\n",
      "Prediction: 100.0 %\n",
      "Actual: 0\n",
      "Prediction: 99.99953508377075 %\n",
      "Actual: 0\n",
      "Prediction: 100.0 %\n",
      "Actual: 0\n",
      "Prediction: 99.9998688697815 %\n",
      "Actual: 0\n",
      "Prediction: 100.0 %\n",
      "Actual: 0\n",
      "Prediction: 99.93795156478882 %\n",
      "Actual: 0\n",
      "Prediction: 100.0 %\n",
      "Actual: 0\n",
      "Prediction: 100.0 %\n",
      "Actual: 0\n",
      "Prediction: 0.0 %\n",
      "Actual: 1\n",
      "Prediction: 100.0 %\n",
      "Actual: 0\n",
      "Prediction: 100.0 %\n",
      "Actual: 0\n",
      "Prediction: 100.0 %\n",
      "Actual: 0\n",
      "Prediction: 99.99985694885254 %\n",
      "Actual: 0\n",
      "Prediction: 100.0 %\n",
      "Actual: 0\n",
      "Prediction: 99.99876022338867 %\n",
      "Actual: 0\n",
      "Prediction: 0.24126123171299696 %\n",
      "Actual: 1\n",
      "Prediction: 100.0 %\n",
      "Actual: 0\n",
      "Prediction: 100.0 %\n",
      "Actual: 0\n",
      "Prediction: 100.0 %\n",
      "Actual: 0\n",
      "Prediction: 99.99998807907104 %\n",
      "Actual: 0\n",
      "Prediction: 70.11551856994629 %\n",
      "Actual: 0\n",
      "Prediction: 100.0 %\n",
      "Actual: 0\n",
      "Prediction: 100.0 %\n",
      "Actual: 0\n",
      "Prediction: 100.0 %\n",
      "Actual: 0\n",
      "Prediction: 100.0 %\n",
      "Actual: 0\n",
      "Prediction: 95.07813453674316 %\n",
      "Actual: 0\n",
      "Prediction: 100.0 %\n",
      "Actual: 0\n",
      "Prediction: 99.99910593032837 %\n",
      "Actual: 0\n",
      "Prediction: 99.99995231628418 %\n",
      "Actual: 0\n",
      "Prediction: 100.0 %\n",
      "Actual: 0\n",
      "Prediction: 100.0 %\n",
      "Actual: 0\n",
      "Prediction: 92.97068119049072 %\n",
      "Actual: 0\n",
      "Prediction: 99.99984502792358 %\n",
      "Actual: 0\n",
      "Prediction: 100.0 %\n",
      "Actual: 0\n",
      "Prediction: 100.0 %\n",
      "Actual: 0\n",
      "Prediction: 99.98888969421387 %\n",
      "Actual: 0\n",
      "Prediction: 99.99974966049194 %\n",
      "Actual: 0\n",
      "Prediction: 100.0 %\n",
      "Actual: 0\n",
      "Prediction: 99.50077533721924 %\n",
      "Actual: 0\n",
      "Prediction: 100.0 %\n",
      "Actual: 0\n",
      "Prediction: 100.0 %\n",
      "Actual: 0\n",
      "Prediction: 100.0 %\n",
      "Actual: 0\n",
      "Prediction: 100.0 %\n",
      "Actual: 0\n",
      "Prediction: 100.0 %\n",
      "Actual: 0\n",
      "Prediction: 100.0 %\n",
      "Actual: 0\n",
      "Prediction: 99.89994168281555 %\n",
      "Actual: 0\n",
      "Prediction: 100.0 %\n",
      "Actual: 0\n",
      "Prediction: 100.0 %\n",
      "Actual: 0\n",
      "Prediction: 100.0 %\n",
      "Actual: 0\n",
      "Prediction: 100.0 %\n",
      "Actual: 0\n",
      "Prediction: 99.99148845672607 %\n",
      "Actual: 0\n",
      "Prediction: 100.0 %\n",
      "Actual: 0\n",
      "Prediction: 99.91016387939453 %\n",
      "Actual: 0\n",
      "Prediction: 100.0 %\n",
      "Actual: 0\n",
      "Prediction: 100.0 %\n",
      "Actual: 0\n",
      "Prediction: 100.0 %\n",
      "Actual: 0\n",
      "Prediction: 100.0 %\n",
      "Actual: 0\n",
      "Prediction: 100.0 %\n",
      "Actual: 0\n",
      "Prediction: 0.03357900131959468 %\n",
      "Actual: 1\n",
      "Prediction: 99.99997615814209 %\n",
      "Actual: 0\n",
      "Prediction: 100.0 %\n",
      "Actual: 0\n",
      "Prediction: 100.0 %\n",
      "Actual: 0\n",
      "Prediction: 100.0 %\n",
      "Actual: 0\n",
      "Prediction: 99.99972581863403 %\n",
      "Actual: 0\n",
      "Prediction: 99.83164072036743 %\n",
      "Actual: 0\n",
      "Prediction: 99.99990463256836 %\n",
      "Actual: 0\n",
      "Prediction: 100.0 %\n",
      "Actual: 0\n",
      "Prediction: 100.0 %\n",
      "Actual: 0\n"
     ]
    }
   ],
   "source": [
    "for i in range(0, 1000):\n",
    "    prediction = model.predict(np.array([xTest[i]]))\n",
    "    if (not (-0.7 < prediction[0][0] - yTest[i] < 0.7)):\n",
    "        showPrediction(i)"
   ]
  }
 ],
 "metadata": {
  "kernelspec": {
   "display_name": "Python 3",
   "language": "python",
   "name": "python3"
  },
  "language_info": {
   "codemirror_mode": {
    "name": "ipython",
    "version": 3
   },
   "file_extension": ".py",
   "mimetype": "text/x-python",
   "name": "python",
   "nbconvert_exporter": "python",
   "pygments_lexer": "ipython3",
   "version": "3.7.4"
  }
 },
 "nbformat": 4,
 "nbformat_minor": 2
}
