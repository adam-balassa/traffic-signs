{
 "cells": [
  {
   "cell_type": "markdown",
   "metadata": {},
   "source": [
    "# Image preprocessing"
   ]
  },
  {
   "cell_type": "markdown",
   "metadata": {},
   "source": [
    "## Imports"
   ]
  },
  {
   "cell_type": "code",
   "execution_count": 1,
   "metadata": {},
   "outputs": [],
   "source": [
    "import matplotlib.pyplot as plt\n",
    "import numpy as np\n",
    "import pickle\n",
    "from sklearn import preprocessing\n",
    "from skimage.transform import resize\n",
    "from skimage.feature import hog\n",
    "import cv2\n",
    "from skimage import data, img_as_float\n",
    "from skimage import exposure"
   ]
  },
  {
   "cell_type": "markdown",
   "metadata": {},
   "source": [
    "## Model saver"
   ]
  },
  {
   "cell_type": "code",
   "execution_count": 2,
   "metadata": {},
   "outputs": [],
   "source": [
    "class ModelSaver:\n",
    "    def __init__(self, name = 'model', model = None):\n",
    "        self.model = model\n",
    "        self.fileName = name + '.pickle'\n",
    "    def save(self, model = None):\n",
    "        if (model == None):\n",
    "            model = self.model\n",
    "        pickle.dump(model, open(self.fileName, 'wb'))\n",
    "    def load(self):\n",
    "        model = pickle.load(open(self.fileName, 'rb'))\n",
    "        return model"
   ]
  },
  {
   "cell_type": "markdown",
   "metadata": {},
   "source": [
    "## Loading up raw data"
   ]
  },
  {
   "cell_type": "code",
   "execution_count": 3,
   "metadata": {},
   "outputs": [],
   "source": [
    "data = ModelSaver('data/raw_data').load()"
   ]
  },
  {
   "cell_type": "code",
   "execution_count": 4,
   "metadata": {},
   "outputs": [],
   "source": [
    "xTrain = np.array(data['x_train'])\n",
    "yTrain = np.array(data['y_train'])\n",
    "\n",
    "xTest = np.array(data['x_test'])\n",
    "yTest = np.array(data['y_test'])"
   ]
  },
  {
   "cell_type": "code",
   "execution_count": 5,
   "metadata": {},
   "outputs": [],
   "source": [
    "labels = ['Speed limit (20km/h)', 'Speed limit (30km/h)', 'Speed limit (50km/h)', 'Speed limit (60km/h)', 'Speed limit (70km/h)', 'Speed limit (80km/h)', 'End of speed limit (80km/h)', 'Speed limit (100km/h)', 'Speed limit (120km/h)', 'No passing', 'No passing for vehicles over 3.5 metric tons', 'Right-of-way at the next intersection', 'Priority road', 'Yield', 'Stop', 'No vehicles', 'Vehicles over 3.5 metric tons prohibited', 'No entry', 'General caution', 'Dangerous curve to the left', 'Dangerous curve to the right', 'Double curve', 'Bumpy road', 'Slippery road', 'Road narrows on the right', 'Road work', 'Traffic signals', 'Pedestrians', 'Children crossing', 'Bicycles crossing', 'Beware of ice/snow', 'Wild animals crossing', 'End of all speed and passing limits', 'Turn right ahead', 'Turn left ahead', 'Ahead only', 'Go straight or right', 'Go straight or left', 'Keep right', 'Keep left', 'Roundabout mandatory', 'End of no passing', 'End of no passing by vehicles over 3.5 metric tons']"
   ]
  },
  {
   "cell_type": "markdown",
   "metadata": {},
   "source": [
    "Sanity check on training and test data"
   ]
  },
  {
   "cell_type": "code",
   "execution_count": 6,
   "metadata": {},
   "outputs": [
    {
     "data": {
      "image/png": "[encoded data removed]",
      "text/plain": [
       "<Figure size 432x288 with 1 Axes>"
      ]
     },
     "metadata": {
      "needs_background": "light"
     },
     "output_type": "display_data"
    },
    {
     "name": "stdout",
     "output_type": "stream",
     "text": [
      "(31, 31, 3)\n"
     ]
    }
   ],
   "source": [
    "plt.imshow(xTrain[0])\n",
    "plt.show()\n",
    "print(xTrain[0].shape)"
   ]
  },
  {
   "cell_type": "code",
   "execution_count": 7,
   "metadata": {},
   "outputs": [
    {
     "name": "stdout",
     "output_type": "stream",
     "text": [
      "No passing for vehicles over 3.5 metric tons\n"
     ]
    },
    {
     "data": {
      "image/png": "[encoded data removed]",
      "text/plain": [
       "<Figure size 432x288 with 1 Axes>"
      ]
     },
     "metadata": {
      "needs_background": "light"
     },
     "output_type": "display_data"
    }
   ],
   "source": [
    "print(labels[yTrain[1000]])\n",
    "plt.imshow(xTrain[1000])\n",
    "plt.show()"
   ]
  },
  {
   "cell_type": "code",
   "execution_count": 8,
   "metadata": {},
   "outputs": [],
   "source": [
    "def showImage(img):\n",
    "    low, high = np.min(img), np.max(img)\n",
    "    img = (img - low) / (high - low)\n",
    "    plt.imshow(img.astype('float32'), cmap=plt.get_cmap('gray_r'))\n",
    "    plt.show()"
   ]
  },
  {
   "cell_type": "markdown",
   "metadata": {},
   "source": [
    "## Normalizer functions"
   ]
  },
  {
   "cell_type": "code",
   "execution_count": 6,
   "metadata": {},
   "outputs": [],
   "source": [
    "def resizeImages(imgs, shape = (32, 32)):\n",
    "    imgs = [resize(img, shape) for img in imgs]\n",
    "    return np.array(imgs)"
   ]
  },
  {
   "cell_type": "markdown",
   "metadata": {},
   "source": [
    "/255 normalization"
   ]
  },
  {
   "cell_type": "code",
   "execution_count": 10,
   "metadata": {},
   "outputs": [],
   "source": [
    "def norm255(imgs):\n",
    "    imgs = imgs.astype(np.float32)\n",
    "    imgs /= 255.0\n",
    "    return imgs"
   ]
  },
  {
   "cell_type": "markdown",
   "metadata": {},
   "source": [
    "Shuffling"
   ]
  },
  {
   "cell_type": "code",
   "execution_count": 7,
   "metadata": {},
   "outputs": [],
   "source": [
    "def shuffle(x, y, seed = 0):\n",
    "    print('Shuffling...')\n",
    "    np.random.seed(0)\n",
    "    np.random.shuffle(x)\n",
    "    np.random.seed(0)\n",
    "    np.random.shuffle(y)"
   ]
  },
  {
   "cell_type": "markdown",
   "metadata": {},
   "source": [
    "Mean normalization"
   ]
  },
  {
   "cell_type": "code",
   "execution_count": 12,
   "metadata": {},
   "outputs": [],
   "source": [
    "def meanNorm(imgs):\n",
    "    print('Mean norm...')\n",
    "    means = np.mean(imgs, axis=(1, 2, 3))\n",
    "    normalized = np.array([img for img in imgs])\n",
    "    for i in range(0, len(means)):\n",
    "        normalized[i] -= means[i]\n",
    "    return normalized"
   ]
  },
  {
   "cell_type": "markdown",
   "metadata": {},
   "source": [
    "Standard normalization"
   ]
  },
  {
   "cell_type": "code",
   "execution_count": 13,
   "metadata": {},
   "outputs": [],
   "source": [
    "def stdNorm(imgs):\n",
    "    print('Std norm...')\n",
    "    stds = np.std(imgs, axis=(1, 2, 3))\n",
    "    normalized = np.array([img for img in imgs])\n",
    "    for i in range(0, len(stds)):\n",
    "        normalized[i] /= stds[i]\n",
    "    return normalized"
   ]
  },
  {
   "cell_type": "markdown",
   "metadata": {},
   "source": [
    "Normalizing between -1, 1"
   ]
  },
  {
   "cell_type": "code",
   "execution_count": 14,
   "metadata": {},
   "outputs": [],
   "source": [
    "def minMaxNorm(imgs):\n",
    "    print('Min-Max norm...')\n",
    "    low = np.min(imgs, axis=(1, 2, 3))\n",
    "    high = np.max(imgs, axis=(1, 2, 3))\n",
    "    normalized = np.array([img for img in imgs])\n",
    "    for i in range(0, len(imgs)):\n",
    "        normalized[i] = (normalized[i] - low[i]) / (high[i] - low[i])\n",
    "    return normalized * 2 - 1"
   ]
  },
  {
   "cell_type": "markdown",
   "metadata": {},
   "source": [
    "Histogram normalization"
   ]
  },
  {
   "cell_type": "code",
   "execution_count": 79,
   "metadata": {},
   "outputs": [],
   "source": [
    "def histogramStretching(img):\n",
    "    p2 = np.percentile(img, 0)\n",
    "    p98 = np.percentile(img, 85)\n",
    "    img_rescale = exposure.rescale_intensity(img, in_range=(p2, p98))\n",
    "    return img_rescale"
   ]
  },
  {
   "cell_type": "code",
   "execution_count": 11,
   "metadata": {},
   "outputs": [],
   "source": [
    "def histogramEqualization(img):\n",
    "    imgEq = exposure.equalize_hist(img)\n",
    "    return imgEq"
   ]
  },
  {
   "cell_type": "code",
   "execution_count": 81,
   "metadata": {},
   "outputs": [],
   "source": [
    "def adaptiveHistogramEqualization(imgs):\n",
    "    imgEq = exposure.equalize_adapthist(imgs, clip_limit=0.1)\n",
    "    return imgEq"
   ]
  },
  {
   "cell_type": "code",
   "execution_count": 8,
   "metadata": {},
   "outputs": [],
   "source": [
    "def histogramOrientedGradients(img):\n",
    "    img = resize(img, (300, 300))\n",
    "    img = histogramEqualization(img)\n",
    "    data = hog(img, orientations=8, pixels_per_cell=(12, 12), cells_per_block=(1, 1), multichannel=True)\n",
    "    return data"
   ]
  },
  {
   "cell_type": "markdown",
   "metadata": {},
   "source": [
    "Applying histogram equalization methods"
   ]
  },
  {
   "cell_type": "code",
   "execution_count": 32,
   "metadata": {},
   "outputs": [],
   "source": [
    "def applyHistogramNormalization(imgs, methods=[1]):\n",
    "    normMethods = (histogramStretching, histogramEqualization, adaptiveHistogramEqualization)\n",
    "    for method in methods:\n",
    "        imgs = [ normMethods[method](img) for img in imgs ]\n",
    "    return np.array(imgs)"
   ]
  },
  {
   "cell_type": "code",
   "execution_count": 9,
   "metadata": {},
   "outputs": [],
   "source": [
    "def applyHOG(x, y):\n",
    "    x = [histogramOrientedGradients(img) for img in x]\n",
    "    shuffle(x, y)\n",
    "    return x, y "
   ]
  },
  {
   "cell_type": "markdown",
   "metadata": {},
   "source": [
    "Applying mean, std, and mean max normalization"
   ]
  },
  {
   "cell_type": "code",
   "execution_count": 20,
   "metadata": {},
   "outputs": [],
   "source": [
    "def applyNormalization(imgs):\n",
    "    imgs = imgs.astype(np.float32)\n",
    "    imgs = meanNorm(imgs)\n",
    "    imgs = stdNorm(imgs)\n",
    "    imgs = minMaxNorm(imgs)\n",
    "    return imgs"
   ]
  },
  {
   "cell_type": "markdown",
   "metadata": {},
   "source": [
    "General preprocessor method"
   ]
  },
  {
   "cell_type": "code",
   "execution_count": 21,
   "metadata": {},
   "outputs": [],
   "source": [
    "def preprocess(x, y, histogramMethods=()):\n",
    "    print('Histogram equalization...')\n",
    "    x = applyHistogramNormalization(x, histogramMethods)\n",
    "    x = applyNormalization(x)\n",
    "    y = [ i for i in y ]\n",
    "    shuffle(x, y)\n",
    "    print('Done')\n",
    "    return x, y"
   ]
  },
  {
   "cell_type": "markdown",
   "metadata": {},
   "source": [
    "## Scikit preprocessor"
   ]
  },
  {
   "cell_type": "code",
   "execution_count": 15,
   "metadata": {},
   "outputs": [],
   "source": [
    "def preprocessImages(imgs):\n",
    "    imgs = imgs.reshape(imgs.shape[0], 32 * 32 * 3)\n",
    "    print('Reshaped...')\n",
    "    preprocessed = preprocessing.scale(imgs, axis=1)\n",
    "    print('Scaled...')\n",
    "    normalized = preprocessing.minmax_scale(preprocessed, axis=1)\n",
    "    print('Normalized...')\n",
    "    normalized = normalized * 2 - 1\n",
    "    print('Normalized between -1 1')\n",
    "    reshaped = normalized.reshape(normalized.shape[0], 32, 32, 3)\n",
    "    return reshaped"
   ]
  },
  {
   "cell_type": "markdown",
   "metadata": {},
   "source": [
    "## Preprocess datasets"
   ]
  },
  {
   "cell_type": "code",
   "execution_count": 22,
   "metadata": {},
   "outputs": [],
   "source": [
    "xTrain = resizeImages(xTrain, (40, 40))\n",
    "xTest = resizeImages(xTest, (40, 40))"
   ]
  },
  {
   "cell_type": "code",
   "execution_count": 28,
   "metadata": {},
   "outputs": [],
   "source": [
    "xTrain = np.array(xTrain)\n",
    "xTest = np.array(xTest)"
   ]
  },
  {
   "cell_type": "code",
   "execution_count": 33,
   "metadata": {
    "scrolled": true
   },
   "outputs": [
    {
     "name": "stdout",
     "output_type": "stream",
     "text": [
      "Histogram equalization...\n",
      "Mean norm...\n",
      "Std norm...\n",
      "Min-Max norm...\n",
      "Shuffling\n",
      "Shuffling...\n",
      "Done\n",
      "Histogram equalization...\n",
      "Mean norm...\n",
      "Std norm...\n",
      "Min-Max norm...\n",
      "Shuffling\n",
      "Shuffling...\n",
      "Done\n",
      "Histogram equalization...\n",
      "Mean norm...\n",
      "Std norm...\n",
      "Min-Max norm...\n",
      "Shuffling\n",
      "Shuffling...\n",
      "Done\n",
      "Histogram equalization...\n",
      "Mean norm...\n",
      "Std norm...\n",
      "Min-Max norm...\n",
      "Shuffling\n",
      "Shuffling...\n",
      "Done\n",
      "Histogram equalization...\n"
     ]
    },
    {
     "name": "stderr",
     "output_type": "stream",
     "text": [
      "/home/adam/anaconda3/lib/python3.7/site-packages/skimage/exposure/exposure.py:124: UserWarning: This might be a color image. The histogram will be computed on the flattened image. You can instead apply this function to each color channel.\n",
      "  warn(\"This might be a color image. The histogram will be \"\n"
     ]
    },
    {
     "name": "stdout",
     "output_type": "stream",
     "text": [
      "Mean norm...\n",
      "Std norm...\n",
      "Min-Max norm...\n",
      "Shuffling\n",
      "Shuffling...\n",
      "Done\n",
      "Histogram equalization...\n",
      "Mean norm...\n",
      "Std norm...\n",
      "Min-Max norm...\n",
      "Shuffling\n",
      "Shuffling...\n",
      "Done\n",
      "Histogram equalization...\n"
     ]
    },
    {
     "name": "stderr",
     "output_type": "stream",
     "text": [
      "/home/adam/anaconda3/lib/python3.7/site-packages/skimage/util/dtype.py:135: UserWarning: Possible precision loss when converting from float64 to uint16\n",
      "  .format(dtypeobj_in, dtypeobj_out))\n"
     ]
    },
    {
     "name": "stdout",
     "output_type": "stream",
     "text": [
      "Mean norm...\n",
      "Std norm...\n",
      "Min-Max norm...\n",
      "Shuffling\n",
      "Shuffling...\n",
      "Done\n",
      "Histogram equalization...\n",
      "Mean norm...\n",
      "Std norm...\n",
      "Min-Max norm...\n",
      "Shuffling\n",
      "Shuffling...\n",
      "Done\n"
     ]
    }
   ],
   "source": [
    "xTrainSimple, yTrainSimple = preprocess(xTrain, yTrain)\n",
    "xTestSimple, yTestSimple = preprocess(xTest, yTest)\n",
    "\n",
    "xTrainStretch, yTrainStretch = preprocess(xTrain, yTrain, histogramMethods=[0])\n",
    "xTestStretch, yTestStretch = preprocess(xTest, yTest, histogramMethods=[0])\n",
    "\n",
    "xTrainEq, yTrainEq = preprocess(xTrain, yTrain, histogramMethods=[1])\n",
    "xTestEq, yTestEq = preprocess(xTest, yTest, histogramMethods=[1])\n",
    "\n",
    "xTrainAdEq, yTrainAdEq = preprocess(xTrain, yTrain, histogramMethods=[2])\n",
    "xTestAdEq, yTestAdEq = preprocess(xTest, yTest, histogramMethods=[2])"
   ]
  },
  {
   "cell_type": "code",
   "execution_count": 12,
   "metadata": {},
   "outputs": [
    {
     "name": "stderr",
     "output_type": "stream",
     "text": [
      "/home/adam/anaconda3/lib/python3.7/site-packages/skimage/exposure/exposure.py:124: UserWarning: This might be a color image. The histogram will be computed on the flattened image. You can instead apply this function to each color channel.\n",
      "  warn(\"This might be a color image. The histogram will be \"\n"
     ]
    },
    {
     "name": "stdout",
     "output_type": "stream",
     "text": [
      "Shuffling...\n",
      "Shuffling...\n"
     ]
    }
   ],
   "source": [
    "xTrainHOG, yTrainHOG = applyHOG(xTrain, yTrain)\n",
    "xTestHOG, yTestHOG = applyHOG(xTest, yTest)"
   ]
  },
  {
   "cell_type": "code",
   "execution_count": 13,
   "metadata": {},
   "outputs": [],
   "source": [
    "yTestHOG = yTest"
   ]
  },
  {
   "cell_type": "code",
   "execution_count": 17,
   "metadata": {},
   "outputs": [],
   "source": [
    "elements = np.random.choice(xTest.shape[0], 4000)"
   ]
  },
  {
   "cell_type": "markdown",
   "metadata": {},
   "source": [
    "Creating validation dataset"
   ]
  },
  {
   "cell_type": "code",
   "execution_count": 46,
   "metadata": {},
   "outputs": [],
   "source": [
    "xValidSimple = xTestSimple[elements]\n",
    "yValidSimple = np.array(yTestSimple)[elements]\n",
    "\n",
    "xValidStretch = xTestStretch[elements]\n",
    "yValidStretch =  np.array(yTestStretch)[elements]\n",
    "\n",
    "xValidEq = xTestEq[elements]\n",
    "yValidEq =  np.array(yTestEq)[elements]\n",
    "\n",
    "xValidAdEq = xTestAdEq[elements]\n",
    "yValidAdEq =  np.array(yTestAdEq)[elements]"
   ]
  },
  {
   "cell_type": "code",
   "execution_count": 20,
   "metadata": {},
   "outputs": [],
   "source": [
    "xValidHOG = np.array(xTestHOG)[elements]\n",
    "yValidHOG =  np.array(yTestHOG)[elements]"
   ]
  },
  {
   "cell_type": "markdown",
   "metadata": {},
   "source": [
    "Sanity check"
   ]
  },
  {
   "cell_type": "code",
   "execution_count": 50,
   "metadata": {},
   "outputs": [
    {
     "name": "stdout",
     "output_type": "stream",
     "text": [
      "Ahead only\n"
     ]
    },
    {
     "data": {
      "image/png": "[encoded data removed]",
      "text/plain": [
       "<Figure size 432x288 with 1 Axes>"
      ]
     },
     "metadata": {
      "needs_background": "light"
     },
     "output_type": "display_data"
    }
   ],
   "source": [
    "print(labels[yTestEq[1000]])\n",
    "showImage(xTestEq[1000])"
   ]
  },
  {
   "cell_type": "markdown",
   "metadata": {},
   "source": [
    "## Saving preprocessed images"
   ]
  },
  {
   "cell_type": "code",
   "execution_count": 60,
   "metadata": {},
   "outputs": [],
   "source": [
    "model = {\n",
    "    'x': {\n",
    "        'train' : {\n",
    "            'simple': xTrainSimple,\n",
    "            'stretch': xTrainStretch,\n",
    "            'eq': xTrainEq,\n",
    "            'adeq': xTrainAdEq\n",
    "        },\n",
    "        'test' : {\n",
    "            'simple': xTestSimple,\n",
    "            'stretch': xTestStretch,\n",
    "            'eq': xTestEq,\n",
    "            'adeq': xTestAdEq\n",
    "        },\n",
    "        'valid' : {\n",
    "            'simple': xValidSimple,\n",
    "            'stretch': xValidStretch,\n",
    "            'eq': xValidEq,\n",
    "            'adeq': xValidAdEq\n",
    "        }\n",
    "    },\n",
    "    'y' : {\n",
    "        'train': yTrainSimple,\n",
    "        'test' : yTestSimple,\n",
    "        'valid' : yValidSimple\n",
    "    },\n",
    "    'labels': labels\n",
    "}"
   ]
  },
  {
   "cell_type": "code",
   "execution_count": 23,
   "metadata": {},
   "outputs": [],
   "source": [
    "model['x']['train']['hog'] = xTrainHOG\n",
    "model['x']['test']['hog'] = xTestHOG\n",
    "model['x']['valid']['hog'] = xValidHOG"
   ]
  },
  {
   "cell_type": "code",
   "execution_count": 24,
   "metadata": {},
   "outputs": [],
   "source": [
    "modelSaver = ModelSaver(model=model, name='data/preprocessed_hist')\n",
    "modelSaver.save()"
   ]
  },
  {
   "cell_type": "markdown",
   "metadata": {},
   "source": [
    "## Load the images"
   ]
  },
  {
   "cell_type": "code",
   "execution_count": 22,
   "metadata": {},
   "outputs": [],
   "source": [
    "modelSaver = ModelSaver(name='data/preprocessed_hist')\n",
    "model = modelSaver.load()"
   ]
  },
  {
   "cell_type": "code",
   "execution_count": null,
   "metadata": {},
   "outputs": [],
   "source": []
  }
 ],
 "metadata": {
  "kernelspec": {
   "display_name": "Python 3",
   "language": "python",
   "name": "python3"
  },
  "language_info": {
   "codemirror_mode": {
    "name": "ipython",
    "version": 3
   },
   "file_extension": ".py",
   "mimetype": "text/x-python",
   "name": "python",
   "nbconvert_exporter": "python",
   "pygments_lexer": "ipython3",
   "version": "3.7.6"
  }
 },
 "nbformat": 4,
 "nbformat_minor": 2
}
